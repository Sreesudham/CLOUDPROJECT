{
  "nbformat": 4,
  "nbformat_minor": 0,
  "metadata": {
    "colab": {
      "name": "autismprediction.ipynb",
      "provenance": [],
      "collapsed_sections": [],
      "authorship_tag": "ABX9TyO+3vwqA3699ASot3Us4BpM",
      "include_colab_link": true
    },
    "kernelspec": {
      "name": "python3",
      "display_name": "Python 3"
    }
  },
  "cells": [
    {
      "cell_type": "markdown",
      "metadata": {
        "id": "view-in-github",
        "colab_type": "text"
      },
      "source": [
        "<a href=\"https://colab.research.google.com/github/Sreesudham/CLOUDPROJECT/blob/master/autismprediction.ipynb\" target=\"_parent\"><img src=\"https://colab.research.google.com/assets/colab-badge.svg\" alt=\"Open In Colab\"/></a>"
      ]
    },
    {
      "cell_type": "code",
      "metadata": {
        "id": "3aUL_abX51Eb",
        "colab_type": "code",
        "colab": {}
      },
      "source": [
        ""
      ],
      "execution_count": 0,
      "outputs": []
    },
    {
      "cell_type": "code",
      "metadata": {
        "id": "bkxu151qT8CU",
        "colab_type": "code",
        "outputId": "25eb6d2d-54b0-41af-c7f1-c0a4c4dc012f",
        "colab": {
          "base_uri": "https://localhost:8080/",
          "height": 34
        }
      },
      "source": [
        "from google.colab import drive\n",
        "drive.mount('/content/drive')"
      ],
      "execution_count": 12,
      "outputs": [
        {
          "output_type": "stream",
          "text": [
            "Drive already mounted at /content/drive; to attempt to forcibly remount, call drive.mount(\"/content/drive\", force_remount=True).\n"
          ],
          "name": "stdout"
        }
      ]
    },
    {
      "cell_type": "code",
      "metadata": {
        "id": "3QXZeUwJ7Z1F",
        "colab_type": "code",
        "outputId": "f1b67409-7b96-4434-f3a8-785d874d707b",
        "colab": {
          "base_uri": "https://localhost:8080/",
          "height": 54
        }
      },
      "source": [
        "import numpy as np # linear algebra\n",
        "import pandas as pd # data processing, CSV file I/O (e.g. pd.read_csv)\n",
        "\n",
        "import os\n",
        "print(os.listdir(\"/content/drive/My Drive/Colab Notebooks\"))"
      ],
      "execution_count": 14,
      "outputs": [
        {
          "output_type": "stream",
          "text": [
            "['Untitled1.ipynb', 'spam.csv', 'Sentiment.csv', 'gridsearch.ipynb', 'Untitled0.ipynb', 'Untitled2.ipynb', 'image.ipynb', 'autoencoder.ipynb', 'imagecnn.ipynb', 'Untitled4.ipynb', 'Untitled3.ipynb', 'Untitled5.ipynb', 'Untitled6.ipynb', 'Untitled7.ipynb', 'Untitled8.ipynb', 'Untitled9.ipynb', 'Untitled10.ipynb', 'Untitled11.ipynb', 'sequence.ipynb', 'Untitled12.ipynb', 'Autism_Data.arff', 'Toddler Autism dataset.csv']\n"
          ],
          "name": "stdout"
        }
      ]
    },
    {
      "cell_type": "code",
      "metadata": {
        "id": "npW5oVbG8fM3",
        "colab_type": "code",
        "colab": {
          "base_uri": "https://localhost:8080/",
          "height": 309
        },
        "outputId": "58cefa07-a563-4d40-a478-44d7518b084e"
      },
      "source": [
        "import matplotlib.pyplot as plt\n",
        "import seaborn as sns\n",
        "%matplotlib inline\n",
        "\n",
        "df1 = pd.read_csv('/content/drive/My Drive/Colab Notebooks/Autism_Data.arff',na_values='?')\n",
        "df2 = pd.read_csv('/content/drive/My Drive/Colab Notebooks/Toddler Autism dataset.csv',na_values='?')\n",
        "df1.head()"
      ],
      "execution_count": 17,
      "outputs": [
        {
          "output_type": "execute_result",
          "data": {
            "text/html": [
              "<div>\n",
              "<style scoped>\n",
              "    .dataframe tbody tr th:only-of-type {\n",
              "        vertical-align: middle;\n",
              "    }\n",
              "\n",
              "    .dataframe tbody tr th {\n",
              "        vertical-align: top;\n",
              "    }\n",
              "\n",
              "    .dataframe thead th {\n",
              "        text-align: right;\n",
              "    }\n",
              "</style>\n",
              "<table border=\"1\" class=\"dataframe\">\n",
              "  <thead>\n",
              "    <tr style=\"text-align: right;\">\n",
              "      <th></th>\n",
              "      <th>A1_Score</th>\n",
              "      <th>A2_Score</th>\n",
              "      <th>A3_Score</th>\n",
              "      <th>A4_Score</th>\n",
              "      <th>A5_Score</th>\n",
              "      <th>A6_Score</th>\n",
              "      <th>A7_Score</th>\n",
              "      <th>A8_Score</th>\n",
              "      <th>A9_Score</th>\n",
              "      <th>A10_Score</th>\n",
              "      <th>age</th>\n",
              "      <th>gender</th>\n",
              "      <th>ethnicity</th>\n",
              "      <th>jundice</th>\n",
              "      <th>austim</th>\n",
              "      <th>contry_of_res</th>\n",
              "      <th>used_app_before</th>\n",
              "      <th>result</th>\n",
              "      <th>age_desc</th>\n",
              "      <th>relation</th>\n",
              "      <th>Class/ASD</th>\n",
              "    </tr>\n",
              "  </thead>\n",
              "  <tbody>\n",
              "    <tr>\n",
              "      <th>0</th>\n",
              "      <td>1</td>\n",
              "      <td>1</td>\n",
              "      <td>1</td>\n",
              "      <td>1</td>\n",
              "      <td>0</td>\n",
              "      <td>0</td>\n",
              "      <td>1</td>\n",
              "      <td>1</td>\n",
              "      <td>0</td>\n",
              "      <td>0</td>\n",
              "      <td>26.0</td>\n",
              "      <td>f</td>\n",
              "      <td>White-European</td>\n",
              "      <td>no</td>\n",
              "      <td>no</td>\n",
              "      <td>'United States'</td>\n",
              "      <td>no</td>\n",
              "      <td>6</td>\n",
              "      <td>'18 and more'</td>\n",
              "      <td>Self</td>\n",
              "      <td>NO</td>\n",
              "    </tr>\n",
              "    <tr>\n",
              "      <th>1</th>\n",
              "      <td>1</td>\n",
              "      <td>1</td>\n",
              "      <td>0</td>\n",
              "      <td>1</td>\n",
              "      <td>0</td>\n",
              "      <td>0</td>\n",
              "      <td>0</td>\n",
              "      <td>1</td>\n",
              "      <td>0</td>\n",
              "      <td>1</td>\n",
              "      <td>24.0</td>\n",
              "      <td>m</td>\n",
              "      <td>Latino</td>\n",
              "      <td>no</td>\n",
              "      <td>yes</td>\n",
              "      <td>Brazil</td>\n",
              "      <td>no</td>\n",
              "      <td>5</td>\n",
              "      <td>'18 and more'</td>\n",
              "      <td>Self</td>\n",
              "      <td>NO</td>\n",
              "    </tr>\n",
              "    <tr>\n",
              "      <th>2</th>\n",
              "      <td>1</td>\n",
              "      <td>1</td>\n",
              "      <td>0</td>\n",
              "      <td>1</td>\n",
              "      <td>1</td>\n",
              "      <td>0</td>\n",
              "      <td>1</td>\n",
              "      <td>1</td>\n",
              "      <td>1</td>\n",
              "      <td>1</td>\n",
              "      <td>27.0</td>\n",
              "      <td>m</td>\n",
              "      <td>Latino</td>\n",
              "      <td>yes</td>\n",
              "      <td>yes</td>\n",
              "      <td>Spain</td>\n",
              "      <td>no</td>\n",
              "      <td>8</td>\n",
              "      <td>'18 and more'</td>\n",
              "      <td>Parent</td>\n",
              "      <td>YES</td>\n",
              "    </tr>\n",
              "    <tr>\n",
              "      <th>3</th>\n",
              "      <td>1</td>\n",
              "      <td>1</td>\n",
              "      <td>0</td>\n",
              "      <td>1</td>\n",
              "      <td>0</td>\n",
              "      <td>0</td>\n",
              "      <td>1</td>\n",
              "      <td>1</td>\n",
              "      <td>0</td>\n",
              "      <td>1</td>\n",
              "      <td>35.0</td>\n",
              "      <td>f</td>\n",
              "      <td>White-European</td>\n",
              "      <td>no</td>\n",
              "      <td>yes</td>\n",
              "      <td>'United States'</td>\n",
              "      <td>no</td>\n",
              "      <td>6</td>\n",
              "      <td>'18 and more'</td>\n",
              "      <td>Self</td>\n",
              "      <td>NO</td>\n",
              "    </tr>\n",
              "    <tr>\n",
              "      <th>4</th>\n",
              "      <td>1</td>\n",
              "      <td>0</td>\n",
              "      <td>0</td>\n",
              "      <td>0</td>\n",
              "      <td>0</td>\n",
              "      <td>0</td>\n",
              "      <td>0</td>\n",
              "      <td>1</td>\n",
              "      <td>0</td>\n",
              "      <td>0</td>\n",
              "      <td>40.0</td>\n",
              "      <td>f</td>\n",
              "      <td>NaN</td>\n",
              "      <td>no</td>\n",
              "      <td>no</td>\n",
              "      <td>Egypt</td>\n",
              "      <td>no</td>\n",
              "      <td>2</td>\n",
              "      <td>'18 and more'</td>\n",
              "      <td>NaN</td>\n",
              "      <td>NO</td>\n",
              "    </tr>\n",
              "  </tbody>\n",
              "</table>\n",
              "</div>"
            ],
            "text/plain": [
              "   A1_Score  A2_Score  A3_Score  ...       age_desc  relation  Class/ASD\n",
              "0         1         1         1  ...  '18 and more'      Self         NO\n",
              "1         1         1         0  ...  '18 and more'      Self         NO\n",
              "2         1         1         0  ...  '18 and more'    Parent        YES\n",
              "3         1         1         0  ...  '18 and more'      Self         NO\n",
              "4         1         0         0  ...  '18 and more'       NaN         NO\n",
              "\n",
              "[5 rows x 21 columns]"
            ]
          },
          "metadata": {
            "tags": []
          },
          "execution_count": 17
        }
      ]
    },
    {
      "cell_type": "code",
      "metadata": {
        "id": "JXuaivFI9PsV",
        "colab_type": "code",
        "colab": {
          "base_uri": "https://localhost:8080/",
          "height": 204
        },
        "outputId": "c7e47de0-49bd-40fd-b26a-966ae092479d"
      },
      "source": [
        "df2.head()"
      ],
      "execution_count": 18,
      "outputs": [
        {
          "output_type": "execute_result",
          "data": {
            "text/html": [
              "<div>\n",
              "<style scoped>\n",
              "    .dataframe tbody tr th:only-of-type {\n",
              "        vertical-align: middle;\n",
              "    }\n",
              "\n",
              "    .dataframe tbody tr th {\n",
              "        vertical-align: top;\n",
              "    }\n",
              "\n",
              "    .dataframe thead th {\n",
              "        text-align: right;\n",
              "    }\n",
              "</style>\n",
              "<table border=\"1\" class=\"dataframe\">\n",
              "  <thead>\n",
              "    <tr style=\"text-align: right;\">\n",
              "      <th></th>\n",
              "      <th>Case_No</th>\n",
              "      <th>A1</th>\n",
              "      <th>A2</th>\n",
              "      <th>A3</th>\n",
              "      <th>A4</th>\n",
              "      <th>A5</th>\n",
              "      <th>A6</th>\n",
              "      <th>A7</th>\n",
              "      <th>A8</th>\n",
              "      <th>A9</th>\n",
              "      <th>A10</th>\n",
              "      <th>Age_Mons</th>\n",
              "      <th>Qchat-10-Score</th>\n",
              "      <th>Sex</th>\n",
              "      <th>Ethnicity</th>\n",
              "      <th>Jaundice</th>\n",
              "      <th>Family_mem_with_ASD</th>\n",
              "      <th>Who completed the test</th>\n",
              "      <th>Class/ASD Traits</th>\n",
              "    </tr>\n",
              "  </thead>\n",
              "  <tbody>\n",
              "    <tr>\n",
              "      <th>0</th>\n",
              "      <td>1</td>\n",
              "      <td>0</td>\n",
              "      <td>0</td>\n",
              "      <td>0</td>\n",
              "      <td>0</td>\n",
              "      <td>0</td>\n",
              "      <td>0</td>\n",
              "      <td>1</td>\n",
              "      <td>1</td>\n",
              "      <td>0</td>\n",
              "      <td>1</td>\n",
              "      <td>28</td>\n",
              "      <td>3</td>\n",
              "      <td>f</td>\n",
              "      <td>middle eastern</td>\n",
              "      <td>yes</td>\n",
              "      <td>no</td>\n",
              "      <td>family member</td>\n",
              "      <td>No</td>\n",
              "    </tr>\n",
              "    <tr>\n",
              "      <th>1</th>\n",
              "      <td>2</td>\n",
              "      <td>1</td>\n",
              "      <td>1</td>\n",
              "      <td>0</td>\n",
              "      <td>0</td>\n",
              "      <td>0</td>\n",
              "      <td>1</td>\n",
              "      <td>1</td>\n",
              "      <td>0</td>\n",
              "      <td>0</td>\n",
              "      <td>0</td>\n",
              "      <td>36</td>\n",
              "      <td>4</td>\n",
              "      <td>m</td>\n",
              "      <td>White European</td>\n",
              "      <td>yes</td>\n",
              "      <td>no</td>\n",
              "      <td>family member</td>\n",
              "      <td>Yes</td>\n",
              "    </tr>\n",
              "    <tr>\n",
              "      <th>2</th>\n",
              "      <td>3</td>\n",
              "      <td>1</td>\n",
              "      <td>0</td>\n",
              "      <td>0</td>\n",
              "      <td>0</td>\n",
              "      <td>0</td>\n",
              "      <td>0</td>\n",
              "      <td>1</td>\n",
              "      <td>1</td>\n",
              "      <td>0</td>\n",
              "      <td>1</td>\n",
              "      <td>36</td>\n",
              "      <td>4</td>\n",
              "      <td>m</td>\n",
              "      <td>middle eastern</td>\n",
              "      <td>yes</td>\n",
              "      <td>no</td>\n",
              "      <td>family member</td>\n",
              "      <td>Yes</td>\n",
              "    </tr>\n",
              "    <tr>\n",
              "      <th>3</th>\n",
              "      <td>4</td>\n",
              "      <td>1</td>\n",
              "      <td>1</td>\n",
              "      <td>1</td>\n",
              "      <td>1</td>\n",
              "      <td>1</td>\n",
              "      <td>1</td>\n",
              "      <td>1</td>\n",
              "      <td>1</td>\n",
              "      <td>1</td>\n",
              "      <td>1</td>\n",
              "      <td>24</td>\n",
              "      <td>10</td>\n",
              "      <td>m</td>\n",
              "      <td>Hispanic</td>\n",
              "      <td>no</td>\n",
              "      <td>no</td>\n",
              "      <td>family member</td>\n",
              "      <td>Yes</td>\n",
              "    </tr>\n",
              "    <tr>\n",
              "      <th>4</th>\n",
              "      <td>5</td>\n",
              "      <td>1</td>\n",
              "      <td>1</td>\n",
              "      <td>0</td>\n",
              "      <td>1</td>\n",
              "      <td>1</td>\n",
              "      <td>1</td>\n",
              "      <td>1</td>\n",
              "      <td>1</td>\n",
              "      <td>1</td>\n",
              "      <td>1</td>\n",
              "      <td>20</td>\n",
              "      <td>9</td>\n",
              "      <td>f</td>\n",
              "      <td>White European</td>\n",
              "      <td>no</td>\n",
              "      <td>yes</td>\n",
              "      <td>family member</td>\n",
              "      <td>Yes</td>\n",
              "    </tr>\n",
              "  </tbody>\n",
              "</table>\n",
              "</div>"
            ],
            "text/plain": [
              "   Case_No  A1  A2  ...  Family_mem_with_ASD  Who completed the test  Class/ASD Traits \n",
              "0        1   0   0  ...                   no           family member                 No\n",
              "1        2   1   1  ...                   no           family member                Yes\n",
              "2        3   1   0  ...                   no           family member                Yes\n",
              "3        4   1   1  ...                   no           family member                Yes\n",
              "4        5   1   1  ...                  yes           family member                Yes\n",
              "\n",
              "[5 rows x 19 columns]"
            ]
          },
          "metadata": {
            "tags": []
          },
          "execution_count": 18
        }
      ]
    },
    {
      "cell_type": "code",
      "metadata": {
        "id": "fOiPTr8R9VcJ",
        "colab_type": "code",
        "colab": {
          "base_uri": "https://localhost:8080/",
          "height": 459
        },
        "outputId": "2789a5f1-da7c-4bc5-e223-e159bb9c1288"
      },
      "source": [
        "df1.info()"
      ],
      "execution_count": 19,
      "outputs": [
        {
          "output_type": "stream",
          "text": [
            "<class 'pandas.core.frame.DataFrame'>\n",
            "RangeIndex: 704 entries, 0 to 703\n",
            "Data columns (total 21 columns):\n",
            "A1_Score           704 non-null int64\n",
            "A2_Score           704 non-null int64\n",
            "A3_Score           704 non-null int64\n",
            "A4_Score           704 non-null int64\n",
            "A5_Score           704 non-null int64\n",
            "A6_Score           704 non-null int64\n",
            "A7_Score           704 non-null int64\n",
            "A8_Score           704 non-null int64\n",
            "A9_Score           704 non-null int64\n",
            "A10_Score          704 non-null int64\n",
            "age                702 non-null float64\n",
            "gender             704 non-null object\n",
            "ethnicity          609 non-null object\n",
            "jundice            704 non-null object\n",
            "austim             704 non-null object\n",
            "contry_of_res      704 non-null object\n",
            "used_app_before    704 non-null object\n",
            "result             704 non-null int64\n",
            "age_desc           704 non-null object\n",
            "relation           609 non-null object\n",
            "Class/ASD          704 non-null object\n",
            "dtypes: float64(1), int64(11), object(9)\n",
            "memory usage: 115.6+ KB\n"
          ],
          "name": "stdout"
        }
      ]
    },
    {
      "cell_type": "code",
      "metadata": {
        "id": "a5GZIEMk9akW",
        "colab_type": "code",
        "colab": {
          "base_uri": "https://localhost:8080/",
          "height": 255
        },
        "outputId": "c6fd90a4-ffd1-4b2b-d8ee-3d1f2c64e564"
      },
      "source": [
        "df2.info"
      ],
      "execution_count": 22,
      "outputs": [
        {
          "output_type": "execute_result",
          "data": {
            "text/plain": [
              "<bound method DataFrame.info of       Case_No  A1  ...  Who completed the test  Class/ASD Traits \n",
              "0           1   0  ...           family member                 No\n",
              "1           2   1  ...           family member                Yes\n",
              "2           3   1  ...           family member                Yes\n",
              "3           4   1  ...           family member                Yes\n",
              "4           5   1  ...           family member                Yes\n",
              "...       ...  ..  ...                     ...                ...\n",
              "1049     1050   0  ...           family member                 No\n",
              "1050     1051   0  ...           family member                Yes\n",
              "1051     1052   1  ...           family member                Yes\n",
              "1052     1053   1  ...           family member                 No\n",
              "1053     1054   1  ...           family member                Yes\n",
              "\n",
              "[1054 rows x 19 columns]>"
            ]
          },
          "metadata": {
            "tags": []
          },
          "execution_count": 22
        }
      ]
    },
    {
      "cell_type": "code",
      "metadata": {
        "id": "Zp2TaAJB9fld",
        "colab_type": "code",
        "colab": {
          "base_uri": "https://localhost:8080/",
          "height": 51
        },
        "outputId": "6c92f240-bcb2-4549-8f0c-9d5305562f61"
      },
      "source": [
        "sns.set_style('whitegrid')\n",
        "data1= df1[df1['Class/ASD']=='YES']\n",
        "data2= df2[df2['Class/ASD Traits ']=='Yes']\n",
        "print(\"Adults: \",len(data1)/len(df1) * 100)\n",
        "print(\"Toddlers:\",len(data2)/len(df2) * 100)"
      ],
      "execution_count": 23,
      "outputs": [
        {
          "output_type": "stream",
          "text": [
            "Adults:  26.84659090909091\n",
            "Toddlers: 69.07020872865274\n"
          ],
          "name": "stdout"
        }
      ]
    },
    {
      "cell_type": "code",
      "metadata": {
        "id": "R261ms5f9xtN",
        "colab_type": "code",
        "colab": {
          "base_uri": "https://localhost:8080/",
          "height": 517
        },
        "outputId": "7bdfab1f-2f8f-4ea7-9f64-5ec6eec2feab"
      },
      "source": [
        "#Let's visualize the missing data\n",
        "fig, ax = plt.subplots(1,2,figsize=(20,6))\n",
        "sns.heatmap(data1.isnull(),yticklabels=False,cbar=False,cmap='viridis',ax=ax[0])\n",
        "ax[0].set_title('Adult dataset')\n",
        "sns.heatmap(data2.isnull(),yticklabels=False,cbar=False,cmap='viridis',ax=ax[1])\n",
        "ax[1].set_title('Toddlers dataset')\n"
      ],
      "execution_count": 24,
      "outputs": [
        {
          "output_type": "execute_result",
          "data": {
            "text/plain": [
              "Text(0.5, 1, 'Toddlers dataset')"
            ]
          },
          "metadata": {
            "tags": []
          },
          "execution_count": 24
        },
        {
          "output_type": "display_data",
          "data": {
            "image/png": "[encoded data removed]",
            "text/plain": [
              "<Figure size 1440x432 with 2 Axes>"
            ]
          },
          "metadata": {
            "tags": []
          }
        }
      ]
    },
    {
      "cell_type": "code",
      "metadata": {
        "id": "XdD8-kB790RN",
        "colab_type": "code",
        "colab": {
          "base_uri": "https://localhost:8080/",
          "height": 421
        },
        "outputId": "e7861a51-7b16-453a-cec5-84b4b9fa0596"
      },
      "source": [
        "#Let's visualize the jaundice born child based on gender\n",
        "fig, ax = plt.subplots(1,2,figsize=(20,6))\n",
        "sns.countplot(x='jundice',data=data1,hue='gender',ax=ax[0])\n",
        "ax[0].set_title('ASD positive Adults born with jaundice based on gender')\n",
        "ax[0].set_xlabel('Jaundice while birth')\n",
        "sns.countplot(x='Jaundice',data=data2,hue='Sex',ax=ax[1])\n",
        "ax[1].set_title('ASD positive Toddlers born with jaundice based on gender')\n",
        "ax[1].set_xlabel('Jaundice while birth')"
      ],
      "execution_count": 25,
      "outputs": [
        {
          "output_type": "execute_result",
          "data": {
            "text/plain": [
              "Text(0.5, 0, 'Jaundice while birth')"
            ]
          },
          "metadata": {
            "tags": []
          },
          "execution_count": 25
        },
        {
          "output_type": "display_data",
          "data": {
            "image/png": "[encoded data removed]",
            "text/plain": [
              "<Figure size 1440x432 with 2 Axes>"
            ]
          },
          "metadata": {
            "tags": []
          }
        }
      ]
    },
    {
      "cell_type": "code",
      "metadata": {
        "id": "JkgmTfJW95Qj",
        "colab_type": "code",
        "colab": {
          "base_uri": "https://localhost:8080/",
          "height": 421
        },
        "outputId": "51d0f7ab-b9a6-4600-e1b7-8b414f166341"
      },
      "source": [
        "#Let's see the age distribution of ASD positive\n",
        "fig, ax = plt.subplots(1,2,figsize=(20,6))\n",
        "sns.distplot(data1['age'],kde=False,bins=45,color='darkred',ax=ax[0])\n",
        "ax[0].set_xlabel('Adult age in years')\n",
        "ax[0].set_title('Age distribution of ASD positive')\n",
        "sns.distplot(data2['Age_Mons'],kde=False,bins=30,color='darkred',ax=ax[1])\n",
        "ax[1].set_xlabel('Toddlers age in months')\n",
        "ax[1].set_title('Age distribution of ASD positive')"
      ],
      "execution_count": 26,
      "outputs": [
        {
          "output_type": "execute_result",
          "data": {
            "text/plain": [
              "Text(0.5, 1.0, 'Age distribution of ASD positive')"
            ]
          },
          "metadata": {
            "tags": []
          },
          "execution_count": 26
        },
        {
          "output_type": "display_data",
          "data": {
            "image/png": "[encoded data removed]",
            "text/plain": [
              "<Figure size 1440x432 with 2 Axes>"
            ]
          },
          "metadata": {
            "tags": []
          }
        }
      ]
    },
    {
      "cell_type": "code",
      "metadata": {
        "id": "1FNzQf9Y9-1q",
        "colab_type": "code",
        "colab": {
          "base_uri": "https://localhost:8080/",
          "height": 441
        },
        "outputId": "3c994130-c310-4eb6-a656-a8f23f95fedd"
      },
      "source": [
        "# Let's visualize positive ASD positive Adults based on top 15 countries\n",
        "plt.figure(figsize=(20,6))\n",
        "sns.countplot(x='contry_of_res',data=data1,order= data1['contry_of_res'].value_counts().index[:15],hue='gender',palette='viridis')\n",
        "plt.title('Positive ASD Adults country wise distribution')\n",
        "plt.xlabel('Countries')\n",
        "plt.tight_layout()"
      ],
      "execution_count": 27,
      "outputs": [
        {
          "output_type": "display_data",
          "data": {
            "image/png": "[encoded data removed]",
            "text/plain": [
              "<Figure size 1440x432 with 1 Axes>"
            ]
          },
          "metadata": {
            "tags": []
          }
        }
      ]
    },
    {
      "cell_type": "code",
      "metadata": {
        "id": "v_OEmV1B-F77",
        "colab_type": "code",
        "colab": {
          "base_uri": "https://localhost:8080/",
          "height": 408
        },
        "outputId": "d0841c78-94b1-451f-8bf5-234348818714"
      },
      "source": [
        "#Lets see the ethnicity value counts\n",
        "print(data1['ethnicity'].value_counts())\n",
        "data2['Ethnicity'].value_counts()"
      ],
      "execution_count": 28,
      "outputs": [
        {
          "output_type": "stream",
          "text": [
            "White-European       109\n",
            "Black                 18\n",
            "Asian                 16\n",
            "Latino                10\n",
            "Others                 9\n",
            "'Middle Eastern '      8\n",
            "Hispanic               5\n",
            "'South Asian'          3\n",
            "Turkish                1\n",
            "Pasifika               1\n",
            "Name: ethnicity, dtype: int64\n"
          ],
          "name": "stdout"
        },
        {
          "output_type": "execute_result",
          "data": {
            "text/plain": [
              "White European    250\n",
              "asian             212\n",
              "middle eastern     96\n",
              "black              39\n",
              "south asian        37\n",
              "Hispanic           30\n",
              "Others             29\n",
              "Latino             20\n",
              "Pacifica            7\n",
              "mixed               5\n",
              "Native Indian       3\n",
              "Name: Ethnicity, dtype: int64"
            ]
          },
          "metadata": {
            "tags": []
          },
          "execution_count": 28
        }
      ]
    },
    {
      "cell_type": "code",
      "metadata": {
        "id": "pnc49WqG-T4c",
        "colab_type": "code",
        "colab": {
          "base_uri": "https://localhost:8080/",
          "height": 441
        },
        "outputId": "39f83e3f-0eea-4130-d271-bd84afb7bb1d"
      },
      "source": [
        "#Lets visualize the ASD distribution of Adult White and European ethnicity based on country\n",
        "#We are considering both country and ethnicity because the reports suggests so.\n",
        "plt.figure(figsize=(15,6))\n",
        "sns.countplot(x='contry_of_res',data=data1[data1['ethnicity']=='White-European'],order=data1[data1['ethnicity']=='White-European']['contry_of_res'].value_counts().index[:10],palette='viridis')\n",
        "plt.title('Positive ASD of White and European Ethnicities country wise distribution')\n",
        "plt.xlabel('Countries')\n",
        "plt.tight_layout()"
      ],
      "execution_count": 29,
      "outputs": [
        {
          "output_type": "display_data",
          "data": {
            "image/png": "[encoded data removed]",
            "text/plain": [
              "<Figure size 1080x432 with 1 Axes>"
            ]
          },
          "metadata": {
            "tags": []
          }
        }
      ]
    },
    {
      "cell_type": "code",
      "metadata": {
        "id": "RoK-SxpP-bKZ",
        "colab_type": "code",
        "colab": {
          "base_uri": "https://localhost:8080/",
          "height": 441
        },
        "outputId": "10f3f846-39d1-4049-8988-661b7e0819d2"
      },
      "source": [
        "#Lets visualize the distribution of autism in family within different ethnicity\n",
        "fig, ax = plt.subplots(1,2,figsize=(20,6))\n",
        "sns.countplot(x='austim',data=data1,hue='ethnicity',palette='rainbow',ax=ax[0])\n",
        "ax[0].set_title('Positive ASD Adult relatives with Autism distribution for different ethnicities')\n",
        "ax[0].set_xlabel('Adult Relatives with ASD')\n",
        "sns.countplot(x='Family_mem_with_ASD',data=data2,hue='Ethnicity',palette='rainbow',ax=ax[1])\n",
        "ax[1].set_title('Positive ASD Toddler relatives with Autism distribution for different ethnicities')\n",
        "ax[1].set_xlabel('Toddler Relatives with ASD')\n",
        "plt.tight_layout()"
      ],
      "execution_count": 30,
      "outputs": [
        {
          "output_type": "display_data",
          "data": {
            "image/png": "[encoded data removed]",
            "text/plain": [
              "<Figure size 1440x432 with 2 Axes>"
            ]
          },
          "metadata": {
            "tags": []
          }
        }
      ]
    },
    {
      "cell_type": "code",
      "metadata": {
        "id": "GV2W9s2y-hIO",
        "colab_type": "code",
        "colab": {}
      },
      "source": [
        "within24_36= pd.get_dummies(df2['Age_Mons']>24,drop_first=True)\n",
        "within0_12 = pd.get_dummies(df2['Age_Mons']<13,drop_first=True)\n",
        "male=pd.get_dummies(df2['Sex'],drop_first=True)\n",
        "ethnics=pd.get_dummies(df2['Ethnicity'],drop_first=True)\n",
        "jaundice=pd.get_dummies(df2['Jaundice'],drop_first=True)\n",
        "ASD_genes=pd.get_dummies(df2['Family_mem_with_ASD'],drop_first=True)\n",
        "ASD_traits=pd.get_dummies(df2['Class/ASD Traits '],drop_first=True)"
      ],
      "execution_count": 0,
      "outputs": []
    },
    {
      "cell_type": "code",
      "metadata": {
        "id": "tXPycVjZ-rGv",
        "colab_type": "code",
        "colab": {
          "base_uri": "https://localhost:8080/",
          "height": 204
        },
        "outputId": "31b6216d-d762-44e1-fe9d-9a3e5bb1cb27"
      },
      "source": [
        "final_data= pd.concat([within0_12,within24_36,male,ethnics,jaundice,ASD_genes,ASD_traits],axis=1)\n",
        "final_data.columns=['within0_12','within24_36','male','Latino','Native Indian','Others','Pacifica','White European','asian','black','middle eastern','mixed','south asian','jaundice','ASD_genes','ASD_traits']\n",
        "final_data.head()"
      ],
      "execution_count": 33,
      "outputs": [
        {
          "output_type": "execute_result",
          "data": {
            "text/html": [
              "<div>\n",
              "<style scoped>\n",
              "    .dataframe tbody tr th:only-of-type {\n",
              "        vertical-align: middle;\n",
              "    }\n",
              "\n",
              "    .dataframe tbody tr th {\n",
              "        vertical-align: top;\n",
              "    }\n",
              "\n",
              "    .dataframe thead th {\n",
              "        text-align: right;\n",
              "    }\n",
              "</style>\n",
              "<table border=\"1\" class=\"dataframe\">\n",
              "  <thead>\n",
              "    <tr style=\"text-align: right;\">\n",
              "      <th></th>\n",
              "      <th>within0_12</th>\n",
              "      <th>within24_36</th>\n",
              "      <th>male</th>\n",
              "      <th>Latino</th>\n",
              "      <th>Native Indian</th>\n",
              "      <th>Others</th>\n",
              "      <th>Pacifica</th>\n",
              "      <th>White European</th>\n",
              "      <th>asian</th>\n",
              "      <th>black</th>\n",
              "      <th>middle eastern</th>\n",
              "      <th>mixed</th>\n",
              "      <th>south asian</th>\n",
              "      <th>jaundice</th>\n",
              "      <th>ASD_genes</th>\n",
              "      <th>ASD_traits</th>\n",
              "    </tr>\n",
              "  </thead>\n",
              "  <tbody>\n",
              "    <tr>\n",
              "      <th>0</th>\n",
              "      <td>0</td>\n",
              "      <td>1</td>\n",
              "      <td>0</td>\n",
              "      <td>0</td>\n",
              "      <td>0</td>\n",
              "      <td>0</td>\n",
              "      <td>0</td>\n",
              "      <td>0</td>\n",
              "      <td>0</td>\n",
              "      <td>0</td>\n",
              "      <td>1</td>\n",
              "      <td>0</td>\n",
              "      <td>0</td>\n",
              "      <td>1</td>\n",
              "      <td>0</td>\n",
              "      <td>0</td>\n",
              "    </tr>\n",
              "    <tr>\n",
              "      <th>1</th>\n",
              "      <td>0</td>\n",
              "      <td>1</td>\n",
              "      <td>1</td>\n",
              "      <td>0</td>\n",
              "      <td>0</td>\n",
              "      <td>0</td>\n",
              "      <td>0</td>\n",
              "      <td>1</td>\n",
              "      <td>0</td>\n",
              "      <td>0</td>\n",
              "      <td>0</td>\n",
              "      <td>0</td>\n",
              "      <td>0</td>\n",
              "      <td>1</td>\n",
              "      <td>0</td>\n",
              "      <td>1</td>\n",
              "    </tr>\n",
              "    <tr>\n",
              "      <th>2</th>\n",
              "      <td>0</td>\n",
              "      <td>1</td>\n",
              "      <td>1</td>\n",
              "      <td>0</td>\n",
              "      <td>0</td>\n",
              "      <td>0</td>\n",
              "      <td>0</td>\n",
              "      <td>0</td>\n",
              "      <td>0</td>\n",
              "      <td>0</td>\n",
              "      <td>1</td>\n",
              "      <td>0</td>\n",
              "      <td>0</td>\n",
              "      <td>1</td>\n",
              "      <td>0</td>\n",
              "      <td>1</td>\n",
              "    </tr>\n",
              "    <tr>\n",
              "      <th>3</th>\n",
              "      <td>0</td>\n",
              "      <td>0</td>\n",
              "      <td>1</td>\n",
              "      <td>0</td>\n",
              "      <td>0</td>\n",
              "      <td>0</td>\n",
              "      <td>0</td>\n",
              "      <td>0</td>\n",
              "      <td>0</td>\n",
              "      <td>0</td>\n",
              "      <td>0</td>\n",
              "      <td>0</td>\n",
              "      <td>0</td>\n",
              "      <td>0</td>\n",
              "      <td>0</td>\n",
              "      <td>1</td>\n",
              "    </tr>\n",
              "    <tr>\n",
              "      <th>4</th>\n",
              "      <td>0</td>\n",
              "      <td>0</td>\n",
              "      <td>0</td>\n",
              "      <td>0</td>\n",
              "      <td>0</td>\n",
              "      <td>0</td>\n",
              "      <td>0</td>\n",
              "      <td>1</td>\n",
              "      <td>0</td>\n",
              "      <td>0</td>\n",
              "      <td>0</td>\n",
              "      <td>0</td>\n",
              "      <td>0</td>\n",
              "      <td>0</td>\n",
              "      <td>1</td>\n",
              "      <td>1</td>\n",
              "    </tr>\n",
              "  </tbody>\n",
              "</table>\n",
              "</div>"
            ],
            "text/plain": [
              "   within0_12  within24_36  male  ...  jaundice  ASD_genes  ASD_traits\n",
              "0           0            1     0  ...         1          0           0\n",
              "1           0            1     1  ...         1          0           1\n",
              "2           0            1     1  ...         1          0           1\n",
              "3           0            0     1  ...         0          0           1\n",
              "4           0            0     0  ...         0          1           1\n",
              "\n",
              "[5 rows x 16 columns]"
            ]
          },
          "metadata": {
            "tags": []
          },
          "execution_count": 33
        }
      ]
    },
    {
      "cell_type": "code",
      "metadata": {
        "id": "2Qd3tmGa-wYL",
        "colab_type": "code",
        "colab": {}
      },
      "source": [
        "from sklearn.model_selection import train_test_split\n",
        "X= final_data.iloc[:,:-1]\n",
        "y= final_data.iloc[:,-1]\n",
        "X_train,X_test,y_train,y_test = train_test_split(X,y,test_size=0.2,random_state=101)"
      ],
      "execution_count": 0,
      "outputs": []
    },
    {
      "cell_type": "code",
      "metadata": {
        "id": "ZK1dpdsLArxw",
        "colab_type": "code",
        "colab": {
          "base_uri": "https://localhost:8080/",
          "height": 102
        },
        "outputId": "56dc77f4-54b5-455e-bcd5-82a12343aedc"
      },
      "source": [
        "from sklearn.linear_model import LogisticRegression\n",
        "logmodel= LogisticRegression()\n",
        "logmodel.fit(X_train,y_train)"
      ],
      "execution_count": 36,
      "outputs": [
        {
          "output_type": "execute_result",
          "data": {
            "text/plain": [
              "LogisticRegression(C=1.0, class_weight=None, dual=False, fit_intercept=True,\n",
              "                   intercept_scaling=1, l1_ratio=None, max_iter=100,\n",
              "                   multi_class='auto', n_jobs=None, penalty='l2',\n",
              "                   random_state=None, solver='lbfgs', tol=0.0001, verbose=0,\n",
              "                   warm_start=False)"
            ]
          },
          "metadata": {
            "tags": []
          },
          "execution_count": 36
        }
      ]
    },
    {
      "cell_type": "code",
      "metadata": {
        "colab_type": "code",
        "id": "BP46935iBBSH",
        "colab": {}
      },
      "source": [
        "from sklearn.model_selection import GridSearchCV\n",
        "param_grid = {'C': [0.01,0.1,1,10,100,1000]}"
      ],
      "execution_count": 0,
      "outputs": []
    },
    {
      "cell_type": "code",
      "metadata": {
        "id": "YZCyb1dVBDUN",
        "colab_type": "code",
        "colab": {}
      },
      "source": [
        "grid_log = GridSearchCV(LogisticRegression(),param_grid,refit=True)"
      ],
      "execution_count": 0,
      "outputs": []
    },
    {
      "cell_type": "code",
      "metadata": {
        "id": "sVG-KbROA6ZZ",
        "colab_type": "code",
        "colab": {
          "base_uri": "https://localhost:8080/",
          "height": 374
        },
        "outputId": "57e63bba-a4ed-46b6-adf2-ad97ac20c8df"
      },
      "source": [
        "grid_log.fit(X_train,y_train)"
      ],
      "execution_count": 44,
      "outputs": [
        {
          "output_type": "stream",
          "text": [
            "/usr/local/lib/python3.6/dist-packages/sklearn/linear_model/_logistic.py:940: ConvergenceWarning: lbfgs failed to converge (status=1):\n",
            "STOP: TOTAL NO. of ITERATIONS REACHED LIMIT.\n",
            "\n",
            "Increase the number of iterations (max_iter) or scale the data as shown in:\n",
            "    https://scikit-learn.org/stable/modules/preprocessing.html\n",
            "Please also refer to the documentation for alternative solver options:\n",
            "    https://scikit-learn.org/stable/modules/linear_model.html#logistic-regression\n",
            "  extra_warning_msg=_LOGISTIC_SOLVER_CONVERGENCE_MSG)\n"
          ],
          "name": "stderr"
        },
        {
          "output_type": "execute_result",
          "data": {
            "text/plain": [
              "GridSearchCV(cv=None, error_score=nan,\n",
              "             estimator=LogisticRegression(C=1.0, class_weight=None, dual=False,\n",
              "                                          fit_intercept=True,\n",
              "                                          intercept_scaling=1, l1_ratio=None,\n",
              "                                          max_iter=100, multi_class='auto',\n",
              "                                          n_jobs=None, penalty='l2',\n",
              "                                          random_state=None, solver='lbfgs',\n",
              "                                          tol=0.0001, verbose=0,\n",
              "                                          warm_start=False),\n",
              "             iid='deprecated', n_jobs=None,\n",
              "             param_grid={'C': [0.01, 0.1, 1, 10, 100, 1000]},\n",
              "             pre_dispatch='2*n_jobs', refit=True, return_train_score=False,\n",
              "             scoring=None, verbose=0)"
            ]
          },
          "metadata": {
            "tags": []
          },
          "execution_count": 44
        }
      ]
    },
    {
      "cell_type": "code",
      "metadata": {
        "id": "sa8XxmM7BO_2",
        "colab_type": "code",
        "colab": {
          "base_uri": "https://localhost:8080/",
          "height": 102
        },
        "outputId": "0799ba7f-a4e8-4167-c946-6498a8ec9f2b"
      },
      "source": [
        "grid_log.best_estimator_"
      ],
      "execution_count": 45,
      "outputs": [
        {
          "output_type": "execute_result",
          "data": {
            "text/plain": [
              "LogisticRegression(C=0.01, class_weight=None, dual=False, fit_intercept=True,\n",
              "                   intercept_scaling=1, l1_ratio=None, max_iter=100,\n",
              "                   multi_class='auto', n_jobs=None, penalty='l2',\n",
              "                   random_state=None, solver='lbfgs', tol=0.0001, verbose=0,\n",
              "                   warm_start=False)"
            ]
          },
          "metadata": {
            "tags": []
          },
          "execution_count": 45
        }
      ]
    },
    {
      "cell_type": "code",
      "metadata": {
        "id": "md0iMCB3BTKX",
        "colab_type": "code",
        "colab": {}
      },
      "source": [
        "pred_log=grid_log.predict(X_test)"
      ],
      "execution_count": 0,
      "outputs": []
    },
    {
      "cell_type": "code",
      "metadata": {
        "id": "pkYYSstLBY-0",
        "colab_type": "code",
        "colab": {
          "base_uri": "https://localhost:8080/",
          "height": 258
        },
        "outputId": "4d389e93-0111-4548-c51c-5c6ca00ec6f2"
      },
      "source": [
        "from sklearn.metrics import classification_report,confusion_matrix\n",
        "print(confusion_matrix(y_test,pred_log))\n",
        "print(classification_report(y_test,pred_log))"
      ],
      "execution_count": 49,
      "outputs": [
        {
          "output_type": "stream",
          "text": [
            "[[  0  78]\n",
            " [  0 133]]\n",
            "              precision    recall  f1-score   support\n",
            "\n",
            "           0       0.00      0.00      0.00        78\n",
            "           1       0.63      1.00      0.77       133\n",
            "\n",
            "    accuracy                           0.63       211\n",
            "   macro avg       0.32      0.50      0.39       211\n",
            "weighted avg       0.40      0.63      0.49       211\n",
            "\n"
          ],
          "name": "stdout"
        },
        {
          "output_type": "stream",
          "text": [
            "/usr/local/lib/python3.6/dist-packages/sklearn/metrics/_classification.py:1272: UndefinedMetricWarning: Precision and F-score are ill-defined and being set to 0.0 in labels with no predicted samples. Use `zero_division` parameter to control this behavior.\n",
            "  _warn_prf(average, modifier, msg_start, len(result))\n"
          ],
          "name": "stderr"
        }
      ]
    },
    {
      "cell_type": "code",
      "metadata": {
        "id": "rEeAeAIPBchl",
        "colab_type": "code",
        "colab": {
          "base_uri": "https://localhost:8080/",
          "height": 153
        },
        "outputId": "f126c942-0521-47e2-ad5d-b091d6370d73"
      },
      "source": [
        "from sklearn.ensemble import RandomForestClassifier\n",
        "rfc= RandomForestClassifier(n_estimators=500)\n",
        "rfc.fit(X_train,y_train)"
      ],
      "execution_count": 50,
      "outputs": [
        {
          "output_type": "execute_result",
          "data": {
            "text/plain": [
              "RandomForestClassifier(bootstrap=True, ccp_alpha=0.0, class_weight=None,\n",
              "                       criterion='gini', max_depth=None, max_features='auto',\n",
              "                       max_leaf_nodes=None, max_samples=None,\n",
              "                       min_impurity_decrease=0.0, min_impurity_split=None,\n",
              "                       min_samples_leaf=1, min_samples_split=2,\n",
              "                       min_weight_fraction_leaf=0.0, n_estimators=500,\n",
              "                       n_jobs=None, oob_score=False, random_state=None,\n",
              "                       verbose=0, warm_start=False)"
            ]
          },
          "metadata": {
            "tags": []
          },
          "execution_count": 50
        }
      ]
    },
    {
      "cell_type": "code",
      "metadata": {
        "id": "EG-iWOQnBhMa",
        "colab_type": "code",
        "colab": {
          "base_uri": "https://localhost:8080/",
          "height": 204
        },
        "outputId": "f09519bf-f7e2-492a-d983-b82d9cf4e685"
      },
      "source": [
        "pred_rfc= rfc.predict(X_test)\n",
        "print(confusion_matrix(y_test,pred_rfc))\n",
        "print(classification_report(y_test,pred_rfc))"
      ],
      "execution_count": 51,
      "outputs": [
        {
          "output_type": "stream",
          "text": [
            "[[ 22  56]\n",
            " [  5 128]]\n",
            "              precision    recall  f1-score   support\n",
            "\n",
            "           0       0.81      0.28      0.42        78\n",
            "           1       0.70      0.96      0.81       133\n",
            "\n",
            "    accuracy                           0.71       211\n",
            "   macro avg       0.76      0.62      0.61       211\n",
            "weighted avg       0.74      0.71      0.66       211\n",
            "\n"
          ],
          "name": "stdout"
        }
      ]
    },
    {
      "cell_type": "code",
      "metadata": {
        "id": "TaBl2Bl-Bkp6",
        "colab_type": "code",
        "colab": {}
      },
      "source": [
        "#first scale the variables\n",
        "from sklearn.preprocessing import StandardScaler\n",
        "scaler= StandardScaler()\n",
        "scaler.fit(X)\n",
        "scaled_features = scaler.transform(X)"
      ],
      "execution_count": 0,
      "outputs": []
    },
    {
      "cell_type": "code",
      "metadata": {
        "id": "bsRxV6mxBrV3",
        "colab_type": "code",
        "colab": {
          "base_uri": "https://localhost:8080/",
          "height": 204
        },
        "outputId": "8aaeff12-1989-483e-e4a7-eee7412fe6aa"
      },
      "source": [
        "X_scaled = pd.DataFrame(scaled_features,columns=X.columns)\n",
        "X_scaled.head()"
      ],
      "execution_count": 54,
      "outputs": [
        {
          "output_type": "execute_result",
          "data": {
            "text/html": [
              "<div>\n",
              "<style scoped>\n",
              "    .dataframe tbody tr th:only-of-type {\n",
              "        vertical-align: middle;\n",
              "    }\n",
              "\n",
              "    .dataframe tbody tr th {\n",
              "        vertical-align: top;\n",
              "    }\n",
              "\n",
              "    .dataframe thead th {\n",
              "        text-align: right;\n",
              "    }\n",
              "</style>\n",
              "<table border=\"1\" class=\"dataframe\">\n",
              "  <thead>\n",
              "    <tr style=\"text-align: right;\">\n",
              "      <th></th>\n",
              "      <th>within0_12</th>\n",
              "      <th>within24_36</th>\n",
              "      <th>male</th>\n",
              "      <th>Latino</th>\n",
              "      <th>Native Indian</th>\n",
              "      <th>Others</th>\n",
              "      <th>Pacifica</th>\n",
              "      <th>White European</th>\n",
              "      <th>asian</th>\n",
              "      <th>black</th>\n",
              "      <th>middle eastern</th>\n",
              "      <th>mixed</th>\n",
              "      <th>south asian</th>\n",
              "      <th>jaundice</th>\n",
              "      <th>ASD_genes</th>\n",
              "    </tr>\n",
              "  </thead>\n",
              "  <tbody>\n",
              "    <tr>\n",
              "      <th>0</th>\n",
              "      <td>-0.260543</td>\n",
              "      <td>0.714163</td>\n",
              "      <td>-1.517918</td>\n",
              "      <td>-0.159034</td>\n",
              "      <td>-0.053427</td>\n",
              "      <td>-0.185331</td>\n",
              "      <td>-0.087454</td>\n",
              "      <td>-0.681094</td>\n",
              "      <td>-0.629306</td>\n",
              "      <td>-0.230102</td>\n",
              "      <td>2.146249</td>\n",
              "      <td>-0.087454</td>\n",
              "      <td>-0.245687</td>\n",
              "      <td>1.630865</td>\n",
              "      <td>-0.438529</td>\n",
              "    </tr>\n",
              "    <tr>\n",
              "      <th>1</th>\n",
              "      <td>-0.260543</td>\n",
              "      <td>0.714163</td>\n",
              "      <td>0.658797</td>\n",
              "      <td>-0.159034</td>\n",
              "      <td>-0.053427</td>\n",
              "      <td>-0.185331</td>\n",
              "      <td>-0.087454</td>\n",
              "      <td>1.468226</td>\n",
              "      <td>-0.629306</td>\n",
              "      <td>-0.230102</td>\n",
              "      <td>-0.465929</td>\n",
              "      <td>-0.087454</td>\n",
              "      <td>-0.245687</td>\n",
              "      <td>1.630865</td>\n",
              "      <td>-0.438529</td>\n",
              "    </tr>\n",
              "    <tr>\n",
              "      <th>2</th>\n",
              "      <td>-0.260543</td>\n",
              "      <td>0.714163</td>\n",
              "      <td>0.658797</td>\n",
              "      <td>-0.159034</td>\n",
              "      <td>-0.053427</td>\n",
              "      <td>-0.185331</td>\n",
              "      <td>-0.087454</td>\n",
              "      <td>-0.681094</td>\n",
              "      <td>-0.629306</td>\n",
              "      <td>-0.230102</td>\n",
              "      <td>2.146249</td>\n",
              "      <td>-0.087454</td>\n",
              "      <td>-0.245687</td>\n",
              "      <td>1.630865</td>\n",
              "      <td>-0.438529</td>\n",
              "    </tr>\n",
              "    <tr>\n",
              "      <th>3</th>\n",
              "      <td>-0.260543</td>\n",
              "      <td>-1.400241</td>\n",
              "      <td>0.658797</td>\n",
              "      <td>-0.159034</td>\n",
              "      <td>-0.053427</td>\n",
              "      <td>-0.185331</td>\n",
              "      <td>-0.087454</td>\n",
              "      <td>-0.681094</td>\n",
              "      <td>-0.629306</td>\n",
              "      <td>-0.230102</td>\n",
              "      <td>-0.465929</td>\n",
              "      <td>-0.087454</td>\n",
              "      <td>-0.245687</td>\n",
              "      <td>-0.613171</td>\n",
              "      <td>-0.438529</td>\n",
              "    </tr>\n",
              "    <tr>\n",
              "      <th>4</th>\n",
              "      <td>-0.260543</td>\n",
              "      <td>-1.400241</td>\n",
              "      <td>-1.517918</td>\n",
              "      <td>-0.159034</td>\n",
              "      <td>-0.053427</td>\n",
              "      <td>-0.185331</td>\n",
              "      <td>-0.087454</td>\n",
              "      <td>1.468226</td>\n",
              "      <td>-0.629306</td>\n",
              "      <td>-0.230102</td>\n",
              "      <td>-0.465929</td>\n",
              "      <td>-0.087454</td>\n",
              "      <td>-0.245687</td>\n",
              "      <td>-0.613171</td>\n",
              "      <td>2.280351</td>\n",
              "    </tr>\n",
              "  </tbody>\n",
              "</table>\n",
              "</div>"
            ],
            "text/plain": [
              "   within0_12  within24_36      male  ...  south asian  jaundice  ASD_genes\n",
              "0   -0.260543     0.714163 -1.517918  ...    -0.245687  1.630865  -0.438529\n",
              "1   -0.260543     0.714163  0.658797  ...    -0.245687  1.630865  -0.438529\n",
              "2   -0.260543     0.714163  0.658797  ...    -0.245687  1.630865  -0.438529\n",
              "3   -0.260543    -1.400241  0.658797  ...    -0.245687 -0.613171  -0.438529\n",
              "4   -0.260543    -1.400241 -1.517918  ...    -0.245687 -0.613171   2.280351\n",
              "\n",
              "[5 rows x 15 columns]"
            ]
          },
          "metadata": {
            "tags": []
          },
          "execution_count": 54
        }
      ]
    },
    {
      "cell_type": "code",
      "metadata": {
        "id": "C9jssHmGBxyD",
        "colab_type": "code",
        "colab": {}
      },
      "source": [
        "X_train,X_test,y_train,y_test = train_test_split(X_scaled,y,test_size=0.2,random_state=101)"
      ],
      "execution_count": 0,
      "outputs": []
    },
    {
      "cell_type": "code",
      "metadata": {
        "id": "d8YzZxrKB2x_",
        "colab_type": "code",
        "colab": {}
      },
      "source": [
        "from sklearn.neighbors import KNeighborsClassifier\n",
        "error_rate =[]\n",
        "\n",
        "for i in range (1,50):\n",
        "    knn= KNeighborsClassifier(n_neighbors=i)\n",
        "    knn.fit(X_train,y_train)\n",
        "    pred_i= knn.predict(X_test)\n",
        "    error_rate.append(np.mean(pred_i != y_test))"
      ],
      "execution_count": 0,
      "outputs": []
    },
    {
      "cell_type": "code",
      "metadata": {
        "id": "AZb2XjGsB_qE",
        "colab_type": "code",
        "colab": {
          "base_uri": "https://localhost:8080/",
          "height": 421
        },
        "outputId": "f27cfe4a-6ce8-45b0-dbd8-9b717b57ef37"
      },
      "source": [
        "plt.figure(figsize=(10,6))\n",
        "plt.plot(range(1,50),error_rate,color='blue',linestyle='dashed',marker='o',markerfacecolor='red',markersize=10)\n",
        "plt.title('Error rate vs K-value')\n",
        "plt.xlabel('K')\n",
        "plt.ylabel('Error Rate')"
      ],
      "execution_count": 57,
      "outputs": [
        {
          "output_type": "execute_result",
          "data": {
            "text/plain": [
              "Text(0, 0.5, 'Error Rate')"
            ]
          },
          "metadata": {
            "tags": []
          },
          "execution_count": 57
        },
        {
          "output_type": "display_data",
          "data": {
            "image/png": "[encoded data removed]",
            "text/plain": [
              "<Figure size 720x432 with 1 Axes>"
            ]
          },
          "metadata": {
            "tags": []
          }
        }
      ]
    },
    {
      "cell_type": "code",
      "metadata": {
        "id": "boXYefHYCFBf",
        "colab_type": "code",
        "colab": {
          "base_uri": "https://localhost:8080/",
          "height": 68
        },
        "outputId": "92356d95-fbfa-4c9b-b0f6-03c0a2535d85"
      },
      "source": [
        "knn= KNeighborsClassifier(n_neighbors=13)\n",
        "knn.fit(X_train,y_train)"
      ],
      "execution_count": 58,
      "outputs": [
        {
          "output_type": "execute_result",
          "data": {
            "text/plain": [
              "KNeighborsClassifier(algorithm='auto', leaf_size=30, metric='minkowski',\n",
              "                     metric_params=None, n_jobs=None, n_neighbors=13, p=2,\n",
              "                     weights='uniform')"
            ]
          },
          "metadata": {
            "tags": []
          },
          "execution_count": 58
        }
      ]
    },
    {
      "cell_type": "code",
      "metadata": {
        "id": "WjUerHVtCGs9",
        "colab_type": "code",
        "colab": {
          "base_uri": "https://localhost:8080/",
          "height": 204
        },
        "outputId": "203e111b-43c7-40a9-c739-e9a3097987be"
      },
      "source": [
        "pred_knn=knn.predict(X_test)\n",
        "print(confusion_matrix(y_test,pred_knn))\n",
        "print(classification_report(y_test,pred_knn))"
      ],
      "execution_count": 59,
      "outputs": [
        {
          "output_type": "stream",
          "text": [
            "[[ 27  51]\n",
            " [ 11 122]]\n",
            "              precision    recall  f1-score   support\n",
            "\n",
            "           0       0.71      0.35      0.47        78\n",
            "           1       0.71      0.92      0.80       133\n",
            "\n",
            "    accuracy                           0.71       211\n",
            "   macro avg       0.71      0.63      0.63       211\n",
            "weighted avg       0.71      0.71      0.67       211\n",
            "\n"
          ],
          "name": "stdout"
        }
      ]
    }
  ]
}